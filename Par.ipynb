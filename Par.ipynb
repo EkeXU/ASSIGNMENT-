{
  "nbformat": 4,
  "nbformat_minor": 0,
  "metadata": {
    "colab": {
      "name": "Par.ipynb",
      "provenance": [],
      "collapsed_sections": [],
      "include_colab_link": true
    },
    "kernelspec": {
      "name": "python3",
      "display_name": "Python 3"
    },
    "language_info": {
      "name": "python"
    }
  },
  "cells": [
    {
      "cell_type": "markdown",
      "metadata": {
        "id": "view-in-github",
        "colab_type": "text"
      },
      "source": [
        "<a href=\"https://colab.research.google.com/github/EkeXU/ASSIGNMENT-/blob/main/Par.ipynb\" target=\"_parent\"><img src=\"https://colab.research.google.com/assets/colab-badge.svg\" alt=\"Open In Colab\"/></a>"
      ]
    },
    {
      "cell_type": "code",
      "execution_count": 1,
      "metadata": {
        "colab": {
          "base_uri": "https://localhost:8080/"
        },
        "id": "J2x8BeYEzQ7o",
        "outputId": "7f163d83-2ec4-4a2e-bb86-ed809130a5f0"
      },
      "outputs": [
        {
          "output_type": "stream",
          "name": "stdout",
          "text": [
            "Collecting pulp\n",
            "  Downloading PuLP-2.6.0-py3-none-any.whl (14.2 MB)\n",
            "\u001b[K     |████████████████████████████████| 14.2 MB 7.2 MB/s \n",
            "\u001b[?25hInstalling collected packages: pulp\n",
            "Successfully installed pulp-2.6.0\n",
            "Selecting previously unselected package libsuitesparseconfig5:amd64.\n",
            "(Reading database ... 155229 files and directories currently installed.)\n",
            "Preparing to unpack .../libsuitesparseconfig5_1%3a5.1.2-2_amd64.deb ...\n",
            "Unpacking libsuitesparseconfig5:amd64 (1:5.1.2-2) ...\n",
            "Selecting previously unselected package libamd2:amd64.\n",
            "Preparing to unpack .../libamd2_1%3a5.1.2-2_amd64.deb ...\n",
            "Unpacking libamd2:amd64 (1:5.1.2-2) ...\n",
            "Selecting previously unselected package libcolamd2:amd64.\n",
            "Preparing to unpack .../libcolamd2_1%3a5.1.2-2_amd64.deb ...\n",
            "Unpacking libcolamd2:amd64 (1:5.1.2-2) ...\n",
            "Selecting previously unselected package libglpk40:amd64.\n",
            "Preparing to unpack .../libglpk40_4.65-1_amd64.deb ...\n",
            "Unpacking libglpk40:amd64 (4.65-1) ...\n",
            "Selecting previously unselected package glpk-utils.\n",
            "Preparing to unpack .../glpk-utils_4.65-1_amd64.deb ...\n",
            "Unpacking glpk-utils (4.65-1) ...\n",
            "Setting up libsuitesparseconfig5:amd64 (1:5.1.2-2) ...\n",
            "Setting up libcolamd2:amd64 (1:5.1.2-2) ...\n",
            "Setting up libamd2:amd64 (1:5.1.2-2) ...\n",
            "Setting up libglpk40:amd64 (4.65-1) ...\n",
            "Setting up glpk-utils (4.65-1) ...\n",
            "Processing triggers for libc-bin (2.27-3ubuntu1.3) ...\n",
            "/sbin/ldconfig.real: /usr/local/lib/python3.7/dist-packages/ideep4py/lib/libmkldnn.so.0 is not a symbolic link\n",
            "\n",
            "Processing triggers for man-db (2.8.3-2ubuntu0.1) ...\n",
            "Model Status:Optimal\n",
            "D = 252.0 \tReduced Cost = None\n",
            "S = 540.0 \tReduced Cost = None\n",
            "Objective= 7668.0\n",
            "\n",
            "Sensitivity Analysis\n",
            "Constraint\t\tShadow Price\tSlack\n",
            "C1 : D + 0.7*S <= 630.0 \t None \t\t None\n",
            "C2 : 0.8333333333333334*D + 0.5*S <= 600.0 \t None \t\t None\n",
            "C3 : 0.6666666666666666*D + S <= 708.0 \t None \t\t None\n",
            "C4 : 0.25*D + 0.1*S <= 135.0 \t None \t\t None\n"
          ]
        }
      ],
      "source": [
        "# Intall and Import Package/Library\n",
        "!pip install pulp\n",
        "import pulp\n",
        "!apt-get install -y -qq glpk-utils\n",
        "from pulp import GLPK\n",
        "\n",
        "# Define Environment & Direction of Optimization\n",
        "prob = pulp.LpProblem(\"golfbag\", pulp.LpMaximize)\n",
        "\n",
        "# Define Decision Variables\n",
        "S = pulp.LpVariable(\"S\", lowBound=0, upBound=None, cat='Continuous')\t\n",
        "D = pulp.LpVariable(\"D\", lowBound=0, upBound=None, cat='Continuous')\n",
        "\n",
        "# Add Objective Function to the Environment\n",
        "prob += 10*S + 9*D, \"Objective\"\n",
        "\t\n",
        "# Add Constraints to the Environment\n",
        "prob += (7/10)*S + 1*D <= 630,  \"C1\"\n",
        "prob += (1/2)*S + (5/6)*D <= 600, \"C2\"\n",
        "prob += 1*S + (2/3)*D <= 708, \"C3\"\n",
        "prob += (1/10)*S + (1/4)*D <= 135,  \"C4\"\n",
        "\n",
        "# Solve the Problem\n",
        "prob.writeLP(\"PAR.lp\")\n",
        "prob.solve(GLPK(msg=True, options=['--ranges', 'sensitivity.txt']))\n",
        "\n",
        "# The Status of the Solution\n",
        "print(\"Model Status:{}\".format(pulp.LpStatus[prob.status]))\n",
        "\t\n",
        "# To Display Optimal Decision Variables & Reduced Cost per Variable\n",
        "for v in prob.variables():\n",
        "\t  print(v.name, \"=\", v.varValue, \"\\tReduced Cost =\", v.dj)\n",
        "\n",
        "# To Display Optimal Value of Objective Function\t\n",
        "print(\"Objective=\", pulp.value(prob.objective))\n",
        "\t\n",
        "# To Display Shadow Price & Slack Value per Constraint\n",
        "print (\"\\nSensitivity Analysis\\nConstraint\\t\\tShadow Price\\tSlack\")\n",
        "for name, c in prob.constraints.items():\n",
        "\t  print(name, \":\", c, \"\\t\", c.pi, \"\\t\\t\", c.slack)"
      ]
    },
    {
      "cell_type": "code",
      "source": [
        "from google.colab import drive\n",
        "drive.mount('/content/drive')"
      ],
      "metadata": {
        "id": "zFnVEuJs_H92"
      },
      "execution_count": null,
      "outputs": []
    }
  ]
}